{
 "cells": [
  {
   "cell_type": "code",
   "execution_count": 24,
   "metadata": {},
   "outputs": [
    {
     "name": "stderr",
     "output_type": "stream",
     "text": [
      "[nltk_data] Downloading package stopwords to\n",
      "[nltk_data]     C:\\Users\\Administrator\\AppData\\Roaming\\nltk_data...\n",
      "[nltk_data]   Package stopwords is already up-to-date!\n",
      "[nltk_data] Downloading package punkt to\n",
      "[nltk_data]     C:\\Users\\Administrator\\AppData\\Roaming\\nltk_data...\n",
      "[nltk_data]   Package punkt is already up-to-date!\n",
      "[nltk_data] Downloading package omw-1.4 to\n",
      "[nltk_data]     C:\\Users\\Administrator\\AppData\\Roaming\\nltk_data...\n",
      "[nltk_data]   Package omw-1.4 is already up-to-date!\n",
      "[nltk_data] Downloading package wordnet to\n",
      "[nltk_data]     C:\\Users\\Administrator\\AppData\\Roaming\\nltk_data...\n",
      "[nltk_data]   Package wordnet is already up-to-date!\n"
     ]
    }
   ],
   "source": [
    "import pandas as pd\n",
    "import re\n",
    "\n",
    "from sklearn.feature_extraction.text import TfidfVectorizer\n",
    "from sklearn.decomposition import PCA\n",
    "\n",
    "from sklearn.model_selection import train_test_split\n",
    "\n",
    "from sklearn.metrics import accuracy_score, classification_report, confusion_matrix\n",
    "\n",
    "import nltk\n",
    "\n",
    "from nltk.tokenize import word_tokenize\n",
    "from nltk.tokenize import sent_tokenize\n",
    "from nltk.stem import WordNetLemmatizer \n",
    "\n",
    "from imblearn.over_sampling import SMOTE\n",
    "\n",
    "nltk.download('stopwords')\n",
    "nltk.download('punkt')\n",
    "nltk.download('omw-1.4')\n",
    "nltk.download('wordnet')\n",
    "\n",
    "from nltk.corpus import stopwords\n",
    "from nltk.corpus import wordnet as wn\n",
    "\n",
    "from collections import defaultdict"
   ]
  },
  {
   "cell_type": "code",
   "execution_count": 25,
   "metadata": {},
   "outputs": [
    {
     "data": {
      "text/html": [
       "<div>\n",
       "<style scoped>\n",
       "    .dataframe tbody tr th:only-of-type {\n",
       "        vertical-align: middle;\n",
       "    }\n",
       "\n",
       "    .dataframe tbody tr th {\n",
       "        vertical-align: top;\n",
       "    }\n",
       "\n",
       "    .dataframe thead th {\n",
       "        text-align: right;\n",
       "    }\n",
       "</style>\n",
       "<table border=\"1\" class=\"dataframe\">\n",
       "  <thead>\n",
       "    <tr style=\"text-align: right;\">\n",
       "      <th></th>\n",
       "      <th>Unnamed: 0</th>\n",
       "      <th>description</th>\n",
       "      <th>medical_specialty</th>\n",
       "      <th>sample_name</th>\n",
       "      <th>transcription</th>\n",
       "      <th>keywords</th>\n",
       "    </tr>\n",
       "  </thead>\n",
       "  <tbody>\n",
       "    <tr>\n",
       "      <th>0</th>\n",
       "      <td>0</td>\n",
       "      <td>A 23-year-old white female presents with comp...</td>\n",
       "      <td>Allergy / Immunology</td>\n",
       "      <td>Allergic Rhinitis</td>\n",
       "      <td>SUBJECTIVE:,  This 23-year-old white female pr...</td>\n",
       "      <td>allergy / immunology, allergic rhinitis, aller...</td>\n",
       "    </tr>\n",
       "    <tr>\n",
       "      <th>1</th>\n",
       "      <td>1</td>\n",
       "      <td>Consult for laparoscopic gastric bypass.</td>\n",
       "      <td>Bariatrics</td>\n",
       "      <td>Laparoscopic Gastric Bypass Consult - 2</td>\n",
       "      <td>PAST MEDICAL HISTORY:, He has difficulty climb...</td>\n",
       "      <td>bariatrics, laparoscopic gastric bypass, weigh...</td>\n",
       "    </tr>\n",
       "    <tr>\n",
       "      <th>2</th>\n",
       "      <td>2</td>\n",
       "      <td>Consult for laparoscopic gastric bypass.</td>\n",
       "      <td>Bariatrics</td>\n",
       "      <td>Laparoscopic Gastric Bypass Consult - 1</td>\n",
       "      <td>HISTORY OF PRESENT ILLNESS: , I have seen ABC ...</td>\n",
       "      <td>bariatrics, laparoscopic gastric bypass, heart...</td>\n",
       "    </tr>\n",
       "    <tr>\n",
       "      <th>3</th>\n",
       "      <td>3</td>\n",
       "      <td>2-D M-Mode. Doppler.</td>\n",
       "      <td>Cardiovascular / Pulmonary</td>\n",
       "      <td>2-D Echocardiogram - 1</td>\n",
       "      <td>2-D M-MODE: , ,1.  Left atrial enlargement wit...</td>\n",
       "      <td>cardiovascular / pulmonary, 2-d m-mode, dopple...</td>\n",
       "    </tr>\n",
       "    <tr>\n",
       "      <th>4</th>\n",
       "      <td>4</td>\n",
       "      <td>2-D Echocardiogram</td>\n",
       "      <td>Cardiovascular / Pulmonary</td>\n",
       "      <td>2-D Echocardiogram - 2</td>\n",
       "      <td>1.  The left ventricular cavity size and wall ...</td>\n",
       "      <td>cardiovascular / pulmonary, 2-d, doppler, echo...</td>\n",
       "    </tr>\n",
       "  </tbody>\n",
       "</table>\n",
       "</div>"
      ],
      "text/plain": [
       "   Unnamed: 0                                        description  \\\n",
       "0           0   A 23-year-old white female presents with comp...   \n",
       "1           1           Consult for laparoscopic gastric bypass.   \n",
       "2           2           Consult for laparoscopic gastric bypass.   \n",
       "3           3                             2-D M-Mode. Doppler.     \n",
       "4           4                                 2-D Echocardiogram   \n",
       "\n",
       "             medical_specialty                                sample_name  \\\n",
       "0         Allergy / Immunology                         Allergic Rhinitis    \n",
       "1                   Bariatrics   Laparoscopic Gastric Bypass Consult - 2    \n",
       "2                   Bariatrics   Laparoscopic Gastric Bypass Consult - 1    \n",
       "3   Cardiovascular / Pulmonary                    2-D Echocardiogram - 1    \n",
       "4   Cardiovascular / Pulmonary                    2-D Echocardiogram - 2    \n",
       "\n",
       "                                       transcription  \\\n",
       "0  SUBJECTIVE:,  This 23-year-old white female pr...   \n",
       "1  PAST MEDICAL HISTORY:, He has difficulty climb...   \n",
       "2  HISTORY OF PRESENT ILLNESS: , I have seen ABC ...   \n",
       "3  2-D M-MODE: , ,1.  Left atrial enlargement wit...   \n",
       "4  1.  The left ventricular cavity size and wall ...   \n",
       "\n",
       "                                            keywords  \n",
       "0  allergy / immunology, allergic rhinitis, aller...  \n",
       "1  bariatrics, laparoscopic gastric bypass, weigh...  \n",
       "2  bariatrics, laparoscopic gastric bypass, heart...  \n",
       "3  cardiovascular / pulmonary, 2-d m-mode, dopple...  \n",
       "4  cardiovascular / pulmonary, 2-d, doppler, echo...  "
      ]
     },
     "execution_count": 25,
     "metadata": {},
     "output_type": "execute_result"
    }
   ],
   "source": [
    "df = pd.read_csv(r\"mtsamples.csv\")\n",
    "df.head()"
   ]
  },
  {
   "cell_type": "code",
   "execution_count": 26,
   "metadata": {},
   "outputs": [
    {
     "data": {
      "text/html": [
       "<div>\n",
       "<style scoped>\n",
       "    .dataframe tbody tr th:only-of-type {\n",
       "        vertical-align: middle;\n",
       "    }\n",
       "\n",
       "    .dataframe tbody tr th {\n",
       "        vertical-align: top;\n",
       "    }\n",
       "\n",
       "    .dataframe thead th {\n",
       "        text-align: right;\n",
       "    }\n",
       "</style>\n",
       "<table border=\"1\" class=\"dataframe\">\n",
       "  <thead>\n",
       "    <tr style=\"text-align: right;\">\n",
       "      <th></th>\n",
       "      <th>transcription</th>\n",
       "      <th>medical_specialty</th>\n",
       "    </tr>\n",
       "  </thead>\n",
       "  <tbody>\n",
       "    <tr>\n",
       "      <th>0</th>\n",
       "      <td>SUBJECTIVE:,  This 23-year-old white female pr...</td>\n",
       "      <td>Allergy / Immunology</td>\n",
       "    </tr>\n",
       "    <tr>\n",
       "      <th>1</th>\n",
       "      <td>PAST MEDICAL HISTORY:, He has difficulty climb...</td>\n",
       "      <td>Bariatrics</td>\n",
       "    </tr>\n",
       "    <tr>\n",
       "      <th>2</th>\n",
       "      <td>HISTORY OF PRESENT ILLNESS: , I have seen ABC ...</td>\n",
       "      <td>Bariatrics</td>\n",
       "    </tr>\n",
       "    <tr>\n",
       "      <th>3</th>\n",
       "      <td>2-D M-MODE: , ,1.  Left atrial enlargement wit...</td>\n",
       "      <td>Cardiovascular / Pulmonary</td>\n",
       "    </tr>\n",
       "    <tr>\n",
       "      <th>4</th>\n",
       "      <td>1.  The left ventricular cavity size and wall ...</td>\n",
       "      <td>Cardiovascular / Pulmonary</td>\n",
       "    </tr>\n",
       "  </tbody>\n",
       "</table>\n",
       "</div>"
      ],
      "text/plain": [
       "                                       transcription  \\\n",
       "0  SUBJECTIVE:,  This 23-year-old white female pr...   \n",
       "1  PAST MEDICAL HISTORY:, He has difficulty climb...   \n",
       "2  HISTORY OF PRESENT ILLNESS: , I have seen ABC ...   \n",
       "3  2-D M-MODE: , ,1.  Left atrial enlargement wit...   \n",
       "4  1.  The left ventricular cavity size and wall ...   \n",
       "\n",
       "             medical_specialty  \n",
       "0         Allergy / Immunology  \n",
       "1                   Bariatrics  \n",
       "2                   Bariatrics  \n",
       "3   Cardiovascular / Pulmonary  \n",
       "4   Cardiovascular / Pulmonary  "
      ]
     },
     "execution_count": 26,
     "metadata": {},
     "output_type": "execute_result"
    }
   ],
   "source": [
    "df=df[['transcription','medical_specialty']]\n",
    "df.head()"
   ]
  },
  {
   "cell_type": "code",
   "execution_count": 27,
   "metadata": {},
   "outputs": [
    {
     "data": {
      "text/plain": [
       " Surgery                          1103\n",
       " Consult - History and Phy.        516\n",
       " Cardiovascular / Pulmonary        372\n",
       " Orthopedic                        355\n",
       " Radiology                         273\n",
       " General Medicine                  259\n",
       " Gastroenterology                  230\n",
       " Neurology                         223\n",
       " SOAP / Chart / Progress Notes     166\n",
       " Obstetrics / Gynecology           160\n",
       " Urology                           158\n",
       " Discharge Summary                 108\n",
       " ENT - Otolaryngology               98\n",
       " Neurosurgery                       94\n",
       " Hematology - Oncology              90\n",
       " Ophthalmology                      83\n",
       " Nephrology                         81\n",
       " Emergency Room Reports             75\n",
       " Pediatrics - Neonatal              70\n",
       " Pain Management                    62\n",
       " Psychiatry / Psychology            53\n",
       " Office Notes                       51\n",
       " Podiatry                           47\n",
       " Dermatology                        29\n",
       " Cosmetic / Plastic Surgery         27\n",
       " Dentistry                          27\n",
       " Letters                            23\n",
       " Physical Medicine - Rehab          21\n",
       " Sleep Medicine                     20\n",
       " Endocrinology                      19\n",
       " Bariatrics                         18\n",
       " IME-QME-Work Comp etc.             16\n",
       " Chiropractic                       14\n",
       " Rheumatology                       10\n",
       " Diets and Nutritions               10\n",
       " Speech - Language                   9\n",
       " Autopsy                             8\n",
       " Lab Medicine - Pathology            8\n",
       " Allergy / Immunology                7\n",
       " Hospice - Palliative Care           6\n",
       "Name: medical_specialty, dtype: int64"
      ]
     },
     "execution_count": 27,
     "metadata": {},
     "output_type": "execute_result"
    }
   ],
   "source": [
    "df['medical_specialty'].value_counts()"
   ]
  },
  {
   "cell_type": "code",
   "execution_count": 28,
   "metadata": {},
   "outputs": [
    {
     "data": {
      "text/plain": [
       " Surgery                          1103\n",
       " Consult - History and Phy.        516\n",
       " Cardiovascular / Pulmonary        372\n",
       " Orthopedic                        355\n",
       " Radiology                         273\n",
       " General Medicine                  259\n",
       " Gastroenterology                  230\n",
       " Neurology                         223\n",
       " SOAP / Chart / Progress Notes     166\n",
       " Obstetrics / Gynecology           160\n",
       " Urology                           158\n",
       " Discharge Summary                 108\n",
       "Name: medical_specialty, dtype: int64"
      ]
     },
     "execution_count": 28,
     "metadata": {},
     "output_type": "execute_result"
    }
   ],
   "source": [
    "counts = df['medical_specialty'].value_counts()\n",
    "\n",
    "df = df[~df['medical_specialty'].isin(counts[counts < 100].index)]\n",
    "\n",
    "df['medical_specialty'].value_counts()"
   ]
  },
  {
   "cell_type": "code",
   "execution_count": 29,
   "metadata": {},
   "outputs": [
    {
     "data": {
      "text/plain": [
       " Consult - History and Phy.    516\n",
       " Cardiovascular / Pulmonary    371\n",
       " Orthopedic                    355\n",
       " Radiology                     273\n",
       " Gastroenterology              224\n",
       " Neurology                     223\n",
       " Urology                       156\n",
       " Obstetrics / Gynecology       155\n",
       "Name: medical_specialty, dtype: int64"
      ]
     },
     "execution_count": 29,
     "metadata": {},
     "output_type": "execute_result"
    }
   ],
   "source": [
    "df.dropna(axis=0,inplace=True)\n",
    "\n",
    "df = df[df['medical_specialty'] != ' Surgery']\n",
    "df = df[df['medical_specialty'] != ' SOAP / Chart / Progress Notes']\n",
    "# df = df[df['medical_specialty'] != ' Emergency Room Reports']\n",
    "df = df[df['medical_specialty'] != ' Discharge Summary']\n",
    "# df = df[df['medical_specialty'] != ' Office Notes']\n",
    "df = df[df['medical_specialty'] != ' General Medicine']\n",
    "# df = df[df['medical_specialty'] != ' Pain Management']\n",
    "\n",
    "df.loc[df.medical_specialty == ' Neurosurgery', \"medical_specialty\"] = ' Neurology'\n",
    "df.loc[df.medical_specialty == ' Nephrology', \"medical_specialty\"] = \" Urology\"\n",
    "\n",
    "df['medical_specialty'].value_counts()"
   ]
  },
  {
   "cell_type": "code",
   "execution_count": 30,
   "metadata": {},
   "outputs": [
    {
     "name": "stdout",
     "output_type": "stream",
     "text": [
      "Sample transcription 1:2-D STUDY,1. Mild aortic stenosis, widely calcified, minimally restricted.,2. Mild left ventricular hypertrophy but normal systolic function.,3. Moderate biatrial enlargement.,4. Normal right ventricle.,5. Normal appearance of the tricuspid and mitral valves.,6. Normal left ventricle and left ventricular systolic function.,DOPPLER,1. There is 1 to 2+ aortic regurgitation easily seen, but no aortic stenosis.,2. Mild tricuspid regurgitation with only mild increase in right heart pressures, 30-35 mmHg maximum.,SUMMARY,1. Normal left ventricle.,2. Moderate biatrial enlargement.,3. Mild tricuspid regurgitation, but only mild increase in right heart pressures.\n",
      "\n",
      "Sample transcription 2:PREOPERATIVE DIAGNOSIS: , Umbilical hernia.,POSTOPERATIVE DIAGNOSIS: , Umbilical hernia.,PROCEDURE PERFORMED: , Repair of umbilical hernia.,ANESTHESIA: , General.,COMPLICATIONS: , None.,ESTIMATED BLOOD LOSS: , Minimal.,PROCEDURE IN DETAIL:  ,The patient was prepped and draped in the sterile fashion.  An infraumbilical incision was formed and taken down to the fascia.  The umbilical hernia carefully reduced back into the cavity, and the fascia was closed with interrupted vertical mattress sutures to approximate the fascia, and then the wounds were infiltrated with 0.25% Marcaine.  The skin was reattached to the fascia with 2-0 Vicryls.  The skin was approximated with 2-0 Vicryl subcutaneous and then 4-0 Monocryl subcuticular stitches, dressed with Steri-Strips and 4 x 4's.  Patient was extubated and taken to the recovery area in stable condition.\n",
      "\n"
     ]
    }
   ],
   "source": [
    "print('Sample transcription 1:'+df.iloc[4]['transcription']+'\\n')\n",
    "print('Sample transcription 2:'+df.iloc[14]['transcription']+'\\n')"
   ]
  },
  {
   "cell_type": "code",
   "execution_count": 31,
   "metadata": {},
   "outputs": [],
   "source": [
    "special_character_remover = re.compile('[/(){}\\[\\]\\|@,;]')\n",
    "extra_symbol_remover = re.compile('[^0-9a-z #+_]')\n",
    "STOPWORDS = set(stopwords.words('english'))"
   ]
  },
  {
   "cell_type": "code",
   "execution_count": 32,
   "metadata": {},
   "outputs": [],
   "source": [
    "def clean_text(text):\n",
    "    text = text.lower()\n",
    "    text = special_character_remover.sub(' ',text)\n",
    "    text = extra_symbol_remover.sub('',text)\n",
    "    text = ' '.join(word for word in text.split() if word not in STOPWORDS)\n",
    "    return text\n",
    "\n",
    "def lemmatize_text(text):\n",
    "    wordlist=[]\n",
    "    lemmatizer = WordNetLemmatizer() \n",
    "    sentences=sent_tokenize(text)\n",
    "    \n",
    "    for sentence in sentences:\n",
    "        words=word_tokenize(sentence)\n",
    "        for word in words:\n",
    "            wordlist.append(lemmatizer.lemmatize(word))    \n",
    "    return ' '.join(wordlist) "
   ]
  },
  {
   "cell_type": "code",
   "execution_count": 33,
   "metadata": {},
   "outputs": [],
   "source": [
    "df['transcription'] = df['transcription'].apply(clean_text)\n",
    "df['transcription'] = df['transcription'].apply(lemmatize_text)"
   ]
  },
  {
   "cell_type": "code",
   "execution_count": 34,
   "metadata": {},
   "outputs": [
    {
     "name": "stdout",
     "output_type": "stream",
     "text": [
      "Sample Transcription 1:2d study 1 mild aortic stenosis widely calcified minimally restricted 2 mild left ventricular hypertrophy normal systolic function 3 moderate biatrial enlargement 4 normal right ventricle 5 normal appearance tricuspid mitral valve 6 normal left ventricle left ventricular systolic function doppler 1 1 2+ aortic regurgitation easily seen aortic stenosis 2 mild tricuspid regurgitation mild increase right heart pressure 3035 mmhg maximum summary 1 normal left ventricle 2 moderate biatrial enlargement 3 mild tricuspid regurgitation mild increase right heart pressure\n",
      "\n",
      "Sample Transcription 2:preoperative diagnosis umbilical hernia postoperative diagnosis umbilical hernia procedure performed repair umbilical hernia anesthesia general complication none estimated blood loss minimal procedure detail patient prepped draped sterile fashion infraumbilical incision formed taken fascia umbilical hernia carefully reduced back cavity fascia closed interrupted vertical mattress suture approximate fascia wound infiltrated 025 marcaine skin reattached fascia 20 vicryls skin approximated 20 vicryl subcutaneous 40 monocryl subcuticular stitch dressed steristrips 4 x 4 patient extubated taken recovery area stable condition\n",
      "\n"
     ]
    }
   ],
   "source": [
    "print('Sample Transcription 1:'+df.iloc[4]['transcription']+'\\n')\n",
    "print('Sample Transcription 2:'+df.iloc[14]['transcription']+'\\n')"
   ]
  },
  {
   "cell_type": "code",
   "execution_count": 35,
   "metadata": {},
   "outputs": [
    {
     "name": "stdout",
     "output_type": "stream",
     "text": [
      "['abc', 'abcd', 'abdomen', 'abdomen soft', 'abdomen soft nontender', 'abdominal', 'abdominal pain', 'able', 'abnormal', 'abnormality', 'abuse', 'achieved', 'active', 'activity', 'acute', 'acute distress', 'addition', 'additional', 'adenopathy', 'adequate', 'adhesion', 'administered', 'admission', 'admitted', 'advanced', 'age', 'ago', 'air', 'alcohol', 'alert', 'alert oriented', 'allergy', 'allergy known', 'allergy known drug', 'anastomosis', 'anemia', 'anesthesia', 'anesthesia general', 'anesthetic', 'angiogram', 'ankle', 'anterior', 'anterior descending', 'antibiotic', 'aorta', 'aortic', 'aortic valve', 'apparently', 'appear', 'appearance', 'appeared', 'appears', 'applied', 'appropriate', 'approximately', 'area', 'arm', 'artery', 'artery disease', 'arthritis', 'asked', 'aspect', 'aspirin', 'assessment', 'associated', 'atraumatic', 'atrial', 'atrial fibrillation', 'attention', 'auscultation', 'axis', 'balloon', 'base', 'based', 'bed', 'began', 'benefit', 'benign', 'better', 'bid', 'bilateral', 'bilaterally', 'biopsy', 'bladder', 'blade', 'bleeding', 'block', 'blood', 'blood loss', 'blood pressure', 'blunt', 'body', 'bone', 'bovie', 'bowel', 'bowel sound', 'brain', 'branch', 'breast', 'breath', 'brother', 'brought', 'bruits', 'bun', 'bypass', 'c5c6', 'calcification', 'came', 'canal', 'cancer', 'capsule', 'cardiac', 'cardiovascular', 'care', 'carefully', 'carotid', 'carotid artery', 'carpal', 'carpal tunnel', 'carried', 'case', 'catheter', 'catheterization', 'cavity', 'cbc', 'cc', 'cell', 'central', 'cerebral', 'cervical', 'cervix', 'change', 'chart', 'check', 'chest', 'chest pain', 'chest xray', 'chief', 'chief complaint', 'child', 'chill', 'chronic', 'circumflex', 'clamp', 'clear', 'clear auscultation', 'clinic', 'clinical', 'closed', 'closure', 'clubbing', 'cm', 'cn', 'colon', 'colonoscopy', 'come', 'common', 'complaint', 'complete', 'completed', 'completely', 'complex', 'complication', 'component', 'compression', 'condition', 'confirmed', 'consent', 'consent obtained', 'consistent', 'consultation', 'continue', 'continued', 'contrast', 'control', 'cord', 'coronary', 'coronary artery', 'coronary artery disease', 'correct', 'cough', 'coumadin', 'count', 'course', 'cranial', 'cranial nerve', 'creatinine', 'csf', 'ct', 'ct scan', 'cuff', 'culture', 'current', 'current medication', 'currently', 'cut', 'cyanosis', 'cyst', 'cystic', 'daily', 'data', 'daughter', 'day', 'decompression', 'decreased', 'deep', 'defect', 'deficit', 'deformity', 'degenerative', 'degree', 'delivery', 'demonstrated', 'denied', 'denies', 'department', 'depression', 'descending', 'described', 'description', 'description procedure', 'developed', 'device', 'diabetes', 'diagnosed', 'diagnosis', 'diagnostic', 'diarrhea', 'died', 'diet', 'difficult', 'difficulty', 'diffuse', 'dilated', 'direct', 'directed', 'disc', 'discharge', 'discharged', 'discomfort', 'discussed', 'discussed patient', 'disease', 'disk', 'disorder', 'dissected', 'dissection', 'distal', 'distally', 'distress', 'divided', 'dorsal', 'dose', 'dr', 'drain', 'draped', 'draped usual', 'draped usual sterile', 'dressing', 'dressing applied', 'drink', 'drug', 'drug allergy', 'drug use', 'dry', 'duct', 'ear', 'easily', 'echocardiogram', 'edema', 'edge', 'effect', 'effusion', 'ejection', 'ejection fraction', 'ekg', 'elbow', 'electrocautery', 'elevated', 'emergency', 'emergency room', 'end', 'endotracheal', 'enlarged', 'entered', 'entire', 'episode', 'equal', 'erythema', 'esophagus', 'estimated', 'estimated blood', 'estimated blood loss', 'evaluated', 'evaluation', 'event', 'evidence', 'exam', 'examination', 'examination general', 'examination vital', 'examination vital sign', 'excellent', 'exercise', 'explained', 'extended', 'extension', 'extensor', 'external', 'extremity', 'eye', 'face', 'facial', 'failure', 'fall', 'family', 'family history', 'fascia', 'fashion', 'father', 'feel', 'felt', 'female', 'femoral', 'femoral artery', 'fetal', 'fever', 'fever chill', 'fibrillation', 'field', 'finding', 'finger', 'fixation', 'flap', 'flexion', 'flexor', 'flow', 'fluid', 'focal', 'foley', 'foley catheter', 'follow', 'followed', 'following', 'followup', 'food', 'foot', 'foramen', 'fraction', 'fracture', 'free', 'frontal', 'function', 'gait', 'gallbladder', 'gallop', 'general', 'general anesthesia', 'general endotracheal', 'gentleman', 'gi', 'given', 'glucose', 'going', 'good', 'grade', 'graft', 'grasped', 'greater', 'gross', 'grossly', 'guide', 'guidewire', 'hand', 'head', 'headache', 'healthy', 'hearing', 'heart', 'heart rate', 'heent', 'height', 'help', 'hematoma', 'hemoglobin', 'hemostasis', 'hernia', 'high', 'hip', 'history', 'history patient', 'history present', 'history present illness', 'history significant', 'home', 'hospital', 'hour', 'husband', 'hx', 'hypertension', 'identified', 'ii', 'illicit', 'illicit drug', 'illness', 'illness patient', 'image', 'imaging', 'impression', 'improved', 'improvement', 'incised', 'incision', 'include', 'including', 'increase', 'increased', 'indication', 'infection', 'inferior', 'informed', 'informed consent', 'inguinal', 'initial', 'initially', 'injected', 'injection', 'injury', 'inserted', 'insertion', 'intact', 'internal', 'interrupted', 'interval', 'intervention', 'intraoperative', 'irrigated', 'issue', 'iv', 'joint', 'kidney', 'knee', 'known', 'known drug', 'known drug allergy', 'l5s1', 'lab', 'laboratory', 'laboratory data', 'laparoscopic', 'large', 'later', 'lateral', 'laterally', 'layer', 'le', 'lead', 'left', 'left anterior', 'left anterior descending', 'left knee', 'left lower', 'left upper', 'left ventricular', 'leg', 'length', 'lesion', 'level', 'lidocaine', 'life', 'ligament', 'light', 'like', 'likely', 'limit', 'limited', 'line', 'little', 'liver', 'lobe', 'local', 'long', 'loss', 'low', 'lower', 'lower extremity', 'lumbar', 'lung', 'lung clear', 'lymph', 'lymph node', 'lymphadenopathy', 'main', 'make', 'male', 'management', 'manner', 'marcaine', 'marked', 'married', 'mass', 'measure', 'med', 'medial', 'medical', 'medical history', 'medication', 'membrane', 'memory', 'mental', 'mentioned', 'metatarsal', 'mg', 'mg daily', 'mg day', 'mg po', 'mg po daily', 'mid', 'middle', 'midline', 'mild', 'mildly', 'minimal', 'minute', 'mitral', 'ml', 'mm', 'mmhg', 'moderate', 'mom', 'month', 'morning', 'mother', 'motion', 'motor', 'mouth', 'movement', 'mr', 'mri', 'mucosa', 'multiple', 'murmur', 'muscle', 'musculoskeletal', 'myocardial', 'nasal', 'nausea', 'nausea vomiting', 'near', 'neck', 'neck supple', 'need', 'needed', 'needle', 'negative', 'nerve', 'nerve root', 'neurologic', 'neurological', 'new', 'night', 'node', 'nontender', 'normal', 'normal limit', 'normocephalic', 'note', 'noted', 'numbness', 'obstruction', 'obtained', 'obvious', 'occasional', 'office', 'old', 'onset', 'open', 'opened', 'operating', 'operating room', 'operation', 'operative', 'oral', 'order', 'oriented', 'outpatient', 'ovary', 'oxygen', 'pacemaker', 'pain', 'palpable', 'palpation', 'parent', 'partial', 'passed', 'past', 'past medical', 'past medical history', 'past surgical', 'past surgical history', 'patella', 'patent', 'pathology', 'patient brought', 'patient denies', 'patient given', 'patient placed', 'patient state', 'patient taken', 'patient taken operating', 'patient tolerated', 'patient tolerated procedure', 'pelvic', 'pelvis', 'performed', 'period', 'peripheral', 'physical', 'physical examination', 'physical examination general', 'physical examination vital', 'physician', 'place', 'placed', 'placed supine', 'placement', 'plan', 'plantar', 'plate', 'pleasant', 'pleural', 'pneumonia', 'po', 'po daily', 'point', 'polyp', 'poor', 'port', 'portion', 'position', 'positive', 'possible', 'post', 'posterior', 'postoperative', 'postoperative diagnosis', 'potassium', 'pound', 'pregnancy', 'preoperative', 'preoperative diagnosis', 'prepped', 'prepped draped', 'prepped draped usual', 'present', 'present illness', 'present illness patient', 'presentation', 'presented', 'pressure', 'previous', 'previously', 'primary', 'prior', 'prn', 'probably', 'problem', 'procedure', 'procedure patient', 'procedure performed', 'proceed', 'process', 'prolene', 'prostate', 'protein', 'proximal', 'proximally', 'psychiatric', 'pulmonary', 'pulmonary artery', 'pulse', 'pupil', 'qd', 'quadrant', 'question', 'quite', 'radial', 'radiation', 'range', 'range motion', 'rash', 'rate', 'rate rhythm', 'reactive', 'reason', 'received', 'recent', 'recently', 'recommendation', 'recommended', 'recovery', 'recovery room', 'rectal', 'recurrent', 'reduction', 'referred', 'reflex', 'reflux', 'regarding', 'region', 'regular', 'regular rate', 'regular rate rhythm', 'regurgitation', 'related', 'release', 'removal', 'removed', 'renal', 'repair', 'repeat', 'replacement', 'report', 'reported', 'resection', 'residual', 'resolved', 'respiration', 'respiratory', 'respiratory rate', 'response', 'rest', 'result', 'retractor', 'return', 'returned', 'revealed', 'reveals', 'review', 'reviewed', 'rhythm', 'right', 'right coronary', 'right coronary artery', 'right foot', 'right lower', 'right upper', 'risk', 'risk benefit', 'room', 'root', 'round', 'rub', 'rule', 'running', 's1', 's2', 'sac', 'said', 'saline', 'satisfactory', 'saturation', 'saw', 'scalpel', 'scan', 'scissors', 'scope', 'screw', 'second', 'secondary', 'sedation', 'seen', 'segment', 'seizure', 'sensation', 'sensory', 'sent', 'severe', 'sharp', 'sheath', 'short', 'shortness', 'shortness breath', 'shoulder', 'showed', 'shunt', 'sign', 'signal', 'significant', 'similar', 'single', 'sinus', 'sinus rhythm', 'site', 'size', 'skin', 'skin closed', 'sleep', 'slightly', 'small', 'smoke', 'smoking', 'social', 'social history', 'social history patient', 'soft', 'soft nontender', 'soft tissue', 'solution', 'somewhat', 'sound', 'space', 'specimen', 'speech', 'spinal', 'spine', 'sponge', 'stable', 'stable condition', 'standard', 'staple', 'started', 'state', 'stated', 'station', 'status', 'status post', 'stenosis', 'stent', 'sterile', 'sterile fashion', 'stitch', 'stomach', 'stone', 'stool', 'strength', 'stress', 'stroke', 'structure', 'study', 'subcutaneous', 'subcutaneous tissue', 'subcuticular', 'subsequently', 'suite', 'superior', 'supine', 'supine position', 'supple', 'surface', 'surgery', 'surgical', 'surgical history', 'suture', 'swelling', 'symmetric', 'symptom', 'syndrome', 'systolic', 'table', 'taken', 'taken operating', 'taken operating room', 'taking', 'tear', 'technique', 'temperature', 'temporal', 'tenderness', 'tendon', 'test', 'testing', 'therapy', 'think', 'thought', 'throat', 'thyroid', 'tibial', 'time', 'tissue', 'tobacco', 'today', 'toe', 'told', 'tolerated', 'tolerated procedure', 'tone', 'total', 'tourniquet', 'transferred', 'transverse', 'treated', 'treatment', 'trial', 'trocar', 'tube', 'tumor', 'tunnel', 'turned', 'twice', 'type', 'ulnar', 'ultrasound', 'unable', 'underlying', 'underwent', 'unit', 'unknown', 'unremarkable', 'upper', 'upper extremity', 'upper lobe', 'urinary', 'urine', 'use', 'used', 'using', 'usual', 'usual sterile', 'uterine', 'uterus', 'utilizing', 'vaginal', 'valve', 'vascular', 'vein', 'venous', 'ventricle', 'ventricular', 'vertebral', 'vessel', 'vicryl', 'vicryl suture', 'view', 'vision', 'visit', 'visual', 'visualization', 'visualized', 'vital', 'vital sign', 'volume', 'vomiting', 'walk', 'walking', 'wall', 'weakness', 'week', 'weight', 'went', 'white', 'wife', 'wire', 'work', 'workup', 'worse', 'wound', 'wrist', 'xray', 'xyz', 'year', 'year ago']\n"
     ]
    }
   ],
   "source": [
    "vectorizer = TfidfVectorizer(analyzer='word', stop_words='english', ngram_range=(1,3), max_df=0.75, min_df=5, use_idf=True, smooth_idf=True, sublinear_tf=True, max_features=1000)\n",
    "tfIdfMat  = vectorizer.fit_transform(df['transcription'].tolist() )\n",
    "feature_names = sorted(vectorizer.get_feature_names_out())\n",
    "del feature_names[0:38]\n",
    "\n",
    "print(feature_names)"
   ]
  },
  {
   "cell_type": "code",
   "execution_count": 36,
   "metadata": {},
   "outputs": [],
   "source": [
    "pca = PCA(n_components=0.95)\n",
    "tfIdfMat_reduced = pca.fit_transform(tfIdfMat.toarray())\n",
    "labels = df['medical_specialty'].tolist()\n",
    "category_list = df.medical_specialty.unique()"
   ]
  },
  {
   "cell_type": "code",
   "execution_count": 37,
   "metadata": {},
   "outputs": [],
   "source": [
    "x_train, x_test, y_train, y_test = train_test_split(tfIdfMat_reduced, labels, stratify=labels, random_state=1)   "
   ]
  },
  {
   "cell_type": "code",
   "execution_count": 38,
   "metadata": {},
   "outputs": [
    {
     "name": "stdout",
     "output_type": "stream",
     "text": [
      "Train_Set_Size:(1704, 596)\n",
      "Test_Set_Size:(569, 596)\n"
     ]
    }
   ],
   "source": [
    "print('Train_Set_Size:'+str(x_train.shape))\n",
    "print('Test_Set_Size:'+str(x_test.shape))"
   ]
  },
  {
   "cell_type": "code",
   "execution_count": 39,
   "metadata": {},
   "outputs": [
    {
     "name": "stdout",
     "output_type": "stream",
     "text": [
      "Naive Bayes Accuracy Score ->  55.008787346221446\n"
     ]
    }
   ],
   "source": [
    "from sklearn.naive_bayes import GaussianNB\n",
    "\n",
    "NB = GaussianNB().fit(x_train, y_train)\n",
    "NB_y_pred = NB.predict(x_test)\n",
    "\n",
    "print(\"Naive Bayes Accuracy Score -> \", accuracy_score(NB_y_pred, y_test)*100)"
   ]
  },
  {
   "cell_type": "code",
   "execution_count": 41,
   "metadata": {},
   "outputs": [
    {
     "name": "stdout",
     "output_type": "stream",
     "text": [
      "MLP Accuracy Score ->  59.57820738137083\n"
     ]
    }
   ],
   "source": [
    "from sklearn.neural_network import MLPClassifier\n",
    "\n",
    "MLP = MLPClassifier(alpha=1, max_iter=1000).fit(x_train, y_train)\n",
    "\n",
    "MLP_y_pred = MLP.predict(x_test)\n",
    "\n",
    "print(\"MLP Accuracy Score -> \", accuracy_score(MLP_y_pred, y_test)*100)"
   ]
  },
  {
   "cell_type": "code",
   "execution_count": 40,
   "metadata": {},
   "outputs": [
    {
     "name": "stdout",
     "output_type": "stream",
     "text": [
      "K Nearest Neighbour Accuracy Score ->  60.28119507908612\n"
     ]
    }
   ],
   "source": [
    "from sklearn.neighbors import KNeighborsClassifier\n",
    "\n",
    "KNN = KNeighborsClassifier().fit(x_train, y_train)\n",
    "\n",
    "KNN_y_pred = KNN.predict(x_test)\n",
    "\n",
    "print(\"K Nearest Neighbour Accuracy Score -> \", accuracy_score(KNN_y_pred, y_test)*100)"
   ]
  },
  {
   "cell_type": "code",
   "execution_count": 42,
   "metadata": {},
   "outputs": [
    {
     "name": "stdout",
     "output_type": "stream",
     "text": [
      "Logistic Regression Accuracy Score ->  64.32337434094903\n"
     ]
    }
   ],
   "source": [
    "from sklearn.linear_model import LogisticRegression\n",
    "\n",
    "LR = LogisticRegression(penalty='elasticnet', solver='saga', l1_ratio=0.5, random_state=1).fit(x_train, y_train)\n",
    "LR_y_pred = LR.predict(x_test)\n",
    "\n",
    "print(\"Logistic Regression Accuracy Score -> \", accuracy_score(LR_y_pred, y_test)*100)"
   ]
  },
  {
   "cell_type": "code",
   "execution_count": 43,
   "metadata": {},
   "outputs": [
    {
     "name": "stdout",
     "output_type": "stream",
     "text": [
      "                             precision    recall  f1-score   support\n",
      "\n",
      " Cardiovascular / Pulmonary       0.65      0.66      0.65        93\n",
      "                  Neurology       0.29      0.20      0.23        56\n",
      "                    Urology       0.86      0.64      0.74        39\n",
      "                  Radiology       0.27      0.26      0.27        68\n",
      "                 Orthopedic       0.76      0.72      0.74        89\n",
      "    Obstetrics / Gynecology       0.83      0.62      0.71        39\n",
      "           Gastroenterology       0.71      0.64      0.67        56\n",
      " Consult - History and Phy.       0.56      0.78      0.65       129\n",
      "\n",
      "                   accuracy                           0.60       569\n",
      "                  macro avg       0.62      0.56      0.58       569\n",
      "               weighted avg       0.60      0.60      0.59       569\n",
      "\n"
     ]
    }
   ],
   "source": [
    "print(classification_report(y_test, MLP_y_pred, labels=category_list))"
   ]
  },
  {
   "cell_type": "code",
   "execution_count": 44,
   "metadata": {},
   "outputs": [
    {
     "data": {
      "text/plain": [
       "Text(0.5, 1.0, 'CONFUSION MATRIX - Logistic Regression')"
      ]
     },
     "execution_count": 44,
     "metadata": {},
     "output_type": "execute_result"
    },
    {
     "data": {
      "image/png": "[encoded data removed]",
      "text/plain": [
       "<Figure size 800x800 with 2 Axes>"
      ]
     },
     "metadata": {},
     "output_type": "display_data"
    }
   ],
   "source": [
    "import matplotlib.pyplot as plt\n",
    "import seaborn as sns\n",
    "\n",
    "cm = confusion_matrix(y_test, MLP_y_pred, labels=category_list)\n",
    "\n",
    "fig, ax = plt.subplots(figsize=(8,8))\n",
    "sns.heatmap(cm, annot=True, cmap=\"Blues\", fmt='d',\n",
    "            xticklabels=category_list, \n",
    "            yticklabels=category_list)\n",
    "            \n",
    "plt.ylabel('Actual')\n",
    "plt.xlabel('Predicted')\n",
    "plt.title(\"CONFUSION MATRIX - Logistic Regression\", size=16)"
   ]
  }
 ],
 "metadata": {
  "kernelspec": {
   "display_name": "Python 3.10.4 64-bit",
   "language": "python",
   "name": "python3"
  },
  "language_info": {
   "codemirror_mode": {
    "name": "ipython",
    "version": 3
   },
   "file_extension": ".py",
   "mimetype": "text/x-python",
   "name": "python",
   "nbconvert_exporter": "python",
   "pygments_lexer": "ipython3",
   "version": "3.10.4 (tags/v3.10.4:9d38120, Mar 23 2022, 23:13:41) [MSC v.1929 64 bit (AMD64)]"
  },
  "orig_nbformat": 4,
  "vscode": {
   "interpreter": {
    "hash": "26de051ba29f2982a8de78e945f0abaf191376122a1563185a90213a26c5da77"
   }
  }
 },
 "nbformat": 4,
 "nbformat_minor": 2
}
